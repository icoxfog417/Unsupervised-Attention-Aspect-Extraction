{
 "cells": [
  {
   "cell_type": "markdown",
   "metadata": {},
   "source": [
    "# SemEval 2016 Slot1 Task: GloVe Average\n",
    "\n",
    "\n",
    "This notebook is to make a baseline for slot1, aspect category detection. We use glove to generate sentence vector. "
   ]
  },
  {
   "cell_type": "code",
   "execution_count": 1,
   "metadata": {},
   "outputs": [],
   "source": [
    "import pandas as pd\n",
    "import numpy as np\n",
    "from pathlib import Path"
   ]
  },
  {
   "cell_type": "code",
   "execution_count": 2,
   "metadata": {},
   "outputs": [],
   "source": [
    "train_path = Path.cwd().parent.joinpath('datasets/semeval-2016/train.csv')\n",
    "test_path = Path.cwd().parent.joinpath('datasets/semeval-2016/test.csv')"
   ]
  },
  {
   "cell_type": "code",
   "execution_count": 3,
   "metadata": {},
   "outputs": [],
   "source": [
    "# Read data\n",
    "data_train = pd.read_csv(train_path)\n",
    "data_test = pd.read_csv(test_path)"
   ]
  },
  {
   "cell_type": "code",
   "execution_count": 4,
   "metadata": {},
   "outputs": [],
   "source": [
    "def df2data(df):\n",
    "    \"\"\"Read data and labels from dataframe\n",
    "    Input:\n",
    "        df: three columns, ['Sentence #', 'Tag', 'Word']\n",
    "    Output:\n",
    "        data: datasize * ['EU', 'rejects', 'German', 'call', 'to', 'boycott', 'British', 'lamb', '.']\n",
    "        label: datasize * ['B-ORG', 'O', 'B-MISC', 'O', 'O', 'O', 'B-MISC', 'O', 'O']\n",
    "    \"\"\"\n",
    "    agg_func = lambda s: [(w, t) for w, t in zip(s[\"Word\"].values.tolist(),\n",
    "                                                 s[\"Tag\"].values.tolist())]\n",
    "    grouped = df.groupby(\"Sentence #\").apply(agg_func)\n",
    "    data = [[w[0] for w in s] for s in grouped]\n",
    "    label = [[w[1] for w in s] for s in grouped]  \n",
    "    \n",
    "    return data, label"
   ]
  },
  {
   "cell_type": "code",
   "execution_count": 5,
   "metadata": {},
   "outputs": [],
   "source": [
    "x_train_words, _ = df2data(data_train)\n",
    "x_test_words, _ = df2data(data_test)"
   ]
  },
  {
   "cell_type": "code",
   "execution_count": 6,
   "metadata": {},
   "outputs": [
    {
     "data": {
      "text/plain": [
       "['judging',\n",
       " 'from',\n",
       " 'previous',\n",
       " 'posts',\n",
       " 'this',\n",
       " 'used',\n",
       " 'to',\n",
       " 'be',\n",
       " 'a',\n",
       " 'good']"
      ]
     },
     "execution_count": 6,
     "metadata": {},
     "output_type": "execute_result"
    }
   ],
   "source": [
    "x_train_words[0][:10]"
   ]
  },
  {
   "cell_type": "markdown",
   "metadata": {},
   "source": [
    "### embedding "
   ]
  },
  {
   "cell_type": "code",
   "execution_count": 7,
   "metadata": {},
   "outputs": [],
   "source": [
    "def load_glove(file):\n",
    "    \"\"\"Loads GloVe vectors in numpy array.\n",
    "    Args:\n",
    "        file (str): a path to a glove file.\n",
    "    Return:\n",
    "        dict: a dict of numpy arrays.\n",
    "    \"\"\"\n",
    "    model = {}\n",
    "    with open(file, encoding=\"utf-8\") as f:\n",
    "        for line in f:\n",
    "            line = line.split(' ')\n",
    "            word = line[0]\n",
    "            vector = np.array([float(val) for val in line[1:]])\n",
    "            model[word] = vector\n",
    "\n",
    "    return model"
   ]
  },
  {
   "cell_type": "code",
   "execution_count": 8,
   "metadata": {},
   "outputs": [],
   "source": [
    "EMBEDDING_PATH = '../embedding_weights/glove.6B/glove.6B.200d.txt'"
   ]
  },
  {
   "cell_type": "code",
   "execution_count": 9,
   "metadata": {},
   "outputs": [],
   "source": [
    "embeddings = load_glove(EMBEDDING_PATH)"
   ]
  },
  {
   "cell_type": "markdown",
   "metadata": {},
   "source": [
    "No need to padding"
   ]
  },
  {
   "cell_type": "code",
   "execution_count": 20,
   "metadata": {},
   "outputs": [],
   "source": [
    "def words2vector(x_words, vector_size=200):\n",
    "\n",
    "    sentence_vectors = []\n",
    "    no_word_match = 0\n",
    "\n",
    "    for sent in x_words:\n",
    "        vector = []\n",
    "        for word in sent:\n",
    "            if embeddings.get(word) is not None:\n",
    "                vector.append(embeddings[word])\n",
    "        if len(vector) > 0:\n",
    "            sentence_vectors.append(np.mean(vector, axis=0))\n",
    "        else:\n",
    "            sentence_vectors.append(np.array([0] * vector_size))\n",
    "            no_word_match += 1\n",
    "\n",
    "    if no_word_match > 0:\n",
    "        print(\"{} sentences does not match any pretrained vector.\".format(no_word_match))\n",
    "\n",
    "    return np.array(sentence_vectors)"
   ]
  },
  {
   "cell_type": "code",
   "execution_count": 21,
   "metadata": {},
   "outputs": [
    {
     "name": "stdout",
     "output_type": "stream",
     "text": [
      "['judging', 'from', 'previous', 'posts', 'this', 'used', 'to', 'be', 'a', 'good', 'place', ',', 'but', 'not', 'any', 'longer', '.']\n",
      "['yum', '!']\n"
     ]
    }
   ],
   "source": [
    "x_train = words2vector(x_train_words)\n",
    "x_test = words2vector(x_test_words)"
   ]
  },
  {
   "cell_type": "code",
   "execution_count": 12,
   "metadata": {},
   "outputs": [
    {
     "name": "stdout",
     "output_type": "stream",
     "text": [
      "(2000, 200)\n",
      "(676, 200)\n"
     ]
    }
   ],
   "source": [
    "print(x_train.shape)\n",
    "print(x_test.shape)"
   ]
  },
  {
   "cell_type": "markdown",
   "metadata": {},
   "source": [
    "### label \n",
    "\n",
    "Read label from csv file. this is a multicalss classification"
   ]
  },
  {
   "cell_type": "code",
   "execution_count": 13,
   "metadata": {},
   "outputs": [],
   "source": [
    "train_path = Path.cwd().parent.joinpath('datasets/semeval-2016/slot1/train_label_df.csv')\n",
    "test_path = Path.cwd().parent.joinpath('datasets/semeval-2016/slot1/test_label_df.csv')"
   ]
  },
  {
   "cell_type": "code",
   "execution_count": 14,
   "metadata": {},
   "outputs": [],
   "source": [
    "y_train_df = pd.read_csv(train_path)\n",
    "y_test_df = pd.read_csv(test_path)"
   ]
  },
  {
   "cell_type": "code",
   "execution_count": 15,
   "metadata": {},
   "outputs": [
    {
     "data": {
      "text/html": [
       "<div>\n",
       "<style scoped>\n",
       "    .dataframe tbody tr th:only-of-type {\n",
       "        vertical-align: middle;\n",
       "    }\n",
       "\n",
       "    .dataframe tbody tr th {\n",
       "        vertical-align: top;\n",
       "    }\n",
       "\n",
       "    .dataframe thead th {\n",
       "        text-align: right;\n",
       "    }\n",
       "</style>\n",
       "<table border=\"1\" class=\"dataframe\">\n",
       "  <thead>\n",
       "    <tr style=\"text-align: right;\">\n",
       "      <th></th>\n",
       "      <th>AMBIENCE#GENERAL</th>\n",
       "      <th>DRINKS#PRICES</th>\n",
       "      <th>DRINKS#QUALITY</th>\n",
       "      <th>DRINKS#STYLE_OPTIONS</th>\n",
       "      <th>FOOD#PRICES</th>\n",
       "      <th>FOOD#QUALITY</th>\n",
       "      <th>FOOD#STYLE_OPTIONS</th>\n",
       "      <th>LOCATION#GENERAL</th>\n",
       "      <th>RESTAURANT#GENERAL</th>\n",
       "      <th>RESTAURANT#MISCELLANEOUS</th>\n",
       "      <th>RESTAURANT#PRICES</th>\n",
       "      <th>SERVICE#GENERAL</th>\n",
       "    </tr>\n",
       "  </thead>\n",
       "  <tbody>\n",
       "    <tr>\n",
       "      <th>0</th>\n",
       "      <td>0</td>\n",
       "      <td>0</td>\n",
       "      <td>0</td>\n",
       "      <td>0</td>\n",
       "      <td>0</td>\n",
       "      <td>0</td>\n",
       "      <td>0</td>\n",
       "      <td>0</td>\n",
       "      <td>1</td>\n",
       "      <td>0</td>\n",
       "      <td>0</td>\n",
       "      <td>0</td>\n",
       "    </tr>\n",
       "    <tr>\n",
       "      <th>1</th>\n",
       "      <td>0</td>\n",
       "      <td>0</td>\n",
       "      <td>0</td>\n",
       "      <td>0</td>\n",
       "      <td>0</td>\n",
       "      <td>0</td>\n",
       "      <td>0</td>\n",
       "      <td>0</td>\n",
       "      <td>0</td>\n",
       "      <td>0</td>\n",
       "      <td>0</td>\n",
       "      <td>1</td>\n",
       "    </tr>\n",
       "    <tr>\n",
       "      <th>2</th>\n",
       "      <td>0</td>\n",
       "      <td>0</td>\n",
       "      <td>0</td>\n",
       "      <td>0</td>\n",
       "      <td>0</td>\n",
       "      <td>0</td>\n",
       "      <td>0</td>\n",
       "      <td>0</td>\n",
       "      <td>0</td>\n",
       "      <td>0</td>\n",
       "      <td>0</td>\n",
       "      <td>1</td>\n",
       "    </tr>\n",
       "  </tbody>\n",
       "</table>\n",
       "</div>"
      ],
      "text/plain": [
       "   AMBIENCE#GENERAL  DRINKS#PRICES  DRINKS#QUALITY  DRINKS#STYLE_OPTIONS  \\\n",
       "0                 0              0               0                     0   \n",
       "1                 0              0               0                     0   \n",
       "2                 0              0               0                     0   \n",
       "\n",
       "   FOOD#PRICES  FOOD#QUALITY  FOOD#STYLE_OPTIONS  LOCATION#GENERAL  \\\n",
       "0            0             0                   0                 0   \n",
       "1            0             0                   0                 0   \n",
       "2            0             0                   0                 0   \n",
       "\n",
       "   RESTAURANT#GENERAL  RESTAURANT#MISCELLANEOUS  RESTAURANT#PRICES  \\\n",
       "0                   1                         0                  0   \n",
       "1                   0                         0                  0   \n",
       "2                   0                         0                  0   \n",
       "\n",
       "   SERVICE#GENERAL  \n",
       "0                0  \n",
       "1                1  \n",
       "2                1  "
      ]
     },
     "execution_count": 15,
     "metadata": {},
     "output_type": "execute_result"
    }
   ],
   "source": [
    "y_train_df.head(3)"
   ]
  },
  {
   "cell_type": "markdown",
   "metadata": {},
   "source": [
    "# model construct"
   ]
  },
  {
   "cell_type": "code",
   "execution_count": 16,
   "metadata": {},
   "outputs": [],
   "source": [
    "from sklearn.model_selection import learning_curve\n",
    "import matplotlib.pyplot as plt\n",
    "\n",
    "%matplotlib inline\n",
    "\n",
    "# learning curve function\n",
    "# http://scikit-learn.org/stable/auto_examples/model_selection/plot_learning_curve.html\n",
    "\n",
    "def plot_learning_curve(\n",
    "        estimator, title, X, y, ylim=None, cv=None,\n",
    "        n_jobs=1, train_sizes=np.linspace(.1, 1.0, 5), verbose=0):\n",
    "\n",
    "    plt.figure()\n",
    "    plt.title(title)\n",
    "    if ylim is not None:\n",
    "        plt.ylim(*ylim)\n",
    "    plt.xlabel(\"Training examples\")\n",
    "    plt.ylabel(\"Score\")\n",
    "    train_sizes, train_scores, test_scores = learning_curve(\n",
    "        estimator, X, y, cv=cv, n_jobs=n_jobs, train_sizes=train_sizes, verbose=verbose)\n",
    "    train_scores_mean = np.mean(train_scores, axis=1)\n",
    "    train_scores_std = np.std(train_scores, axis=1)\n",
    "    test_scores_mean = np.mean(test_scores, axis=1)\n",
    "    test_scores_std = np.std(test_scores, axis=1)\n",
    "    plt.grid()\n",
    "\n",
    "    plt.fill_between(train_sizes, train_scores_mean - train_scores_std,\n",
    "                     train_scores_mean + train_scores_std, alpha=0.1,\n",
    "                     color=\"r\")\n",
    "    plt.fill_between(train_sizes, test_scores_mean - test_scores_std,\n",
    "                     test_scores_mean + test_scores_std, alpha=0.1, color=\"g\")\n",
    "    plt.plot(train_sizes, train_scores_mean, 'o-', color=\"r\",\n",
    "             label=\"Training score\")\n",
    "    plt.plot(train_sizes, test_scores_mean, 'o-', color=\"g\",\n",
    "             label=\"Cross-validation score\")\n",
    "\n",
    "    plt.legend(loc=\"best\")\n",
    "    return plt"
   ]
  },
  {
   "cell_type": "code",
   "execution_count": 17,
   "metadata": {},
   "outputs": [
    {
     "name": "stdout",
     "output_type": "stream",
     "text": [
      "[learning_curve] Training set sizes: [ 160  520  880 1240 1600]\n",
      "[CV]  ................................................................\n",
      "[CV] .................................... , score=0.315, total=   0.0s\n",
      "[CV]  ................................................................\n",
      "[CV] .................................... , score=0.375, total=   0.0s\n",
      "[CV]  ................................................................\n"
     ]
    },
    {
     "name": "stderr",
     "output_type": "stream",
     "text": [
      "[Parallel(n_jobs=1)]: Done   1 out of   1 | elapsed:    0.0s remaining:    0.0s\n",
      "[Parallel(n_jobs=1)]: Done   2 out of   2 | elapsed:    0.1s remaining:    0.0s\n"
     ]
    },
    {
     "name": "stdout",
     "output_type": "stream",
     "text": [
      "[CV] ..................................... , score=0.39, total=   0.1s\n",
      "[CV]  ................................................................\n"
     ]
    },
    {
     "name": "stderr",
     "output_type": "stream",
     "text": [
      "[Parallel(n_jobs=1)]: Done   3 out of   3 | elapsed:    0.3s remaining:    0.0s\n"
     ]
    },
    {
     "name": "stdout",
     "output_type": "stream",
     "text": [
      "[CV] ................................... , score=0.4125, total=   0.2s\n",
      "[CV]  ................................................................\n",
      "[CV] ................................... , score=0.4375, total=   0.3s\n",
      "[CV]  ................................................................\n",
      "[CV] ..................................... , score=0.27, total=   0.0s\n",
      "[CV]  ................................................................\n",
      "[CV] ................................... , score=0.3875, total=   0.0s\n",
      "[CV]  ................................................................\n",
      "[CV] ..................................... , score=0.39, total=   0.1s\n",
      "[CV]  ................................................................\n",
      "[CV] .................................... , score=0.395, total=   0.2s\n",
      "[CV]  ................................................................\n",
      "[CV] .................................... , score=0.415, total=   0.3s\n",
      "[CV]  ................................................................\n",
      "[CV] ................................... , score=0.3025, total=   0.0s\n",
      "[CV]  ................................................................\n",
      "[CV] ................................... , score=0.3625, total=   0.0s\n",
      "[CV]  ................................................................\n"
     ]
    },
    {
     "name": "stderr",
     "output_type": "stream",
     "text": [
      "c:\\users\\tie301837\\env\\continuum\\miniconda3\\lib\\site-packages\\sklearn\\multiclass.py:76: UserWarning: Label not 1 is present in all training examples.\n",
      "  str(classes[c]))\n"
     ]
    },
    {
     "name": "stdout",
     "output_type": "stream",
     "text": [
      "[CV] ..................................... , score=0.39, total=   0.1s\n",
      "[CV]  ................................................................\n",
      "[CV] ................................... , score=0.3975, total=   0.2s\n",
      "[CV]  ................................................................\n",
      "[CV] ..................................... , score=0.41, total=   0.3s\n",
      "[CV]  ................................................................\n",
      "[CV] ................................... , score=0.3125, total=   0.0s\n",
      "[CV]  ................................................................\n",
      "[CV] ..................................... , score=0.37, total=   0.0s\n",
      "[CV]  ................................................................\n",
      "[CV] ..................................... , score=0.37, total=   0.1s\n",
      "[CV]  ................................................................\n",
      "[CV] ................................... , score=0.4025, total=   0.2s\n",
      "[CV]  ................................................................\n",
      "[CV] .................................... , score=0.405, total=   0.3s\n",
      "[CV]  ................................................................\n",
      "[CV] ................................... , score=0.2925, total=   0.0s\n",
      "[CV]  ................................................................\n",
      "[CV] .................................... , score=0.345, total=   0.0s\n",
      "[CV]  ................................................................\n"
     ]
    },
    {
     "name": "stderr",
     "output_type": "stream",
     "text": [
      "c:\\users\\tie301837\\env\\continuum\\miniconda3\\lib\\site-packages\\sklearn\\multiclass.py:76: UserWarning: Label not 7 is present in all training examples.\n",
      "  str(classes[c]))\n"
     ]
    },
    {
     "name": "stdout",
     "output_type": "stream",
     "text": [
      "[CV] ................................... , score=0.3925, total=   0.1s\n",
      "[CV]  ................................................................\n",
      "[CV] ................................... , score=0.4025, total=   0.2s\n",
      "[CV]  ................................................................\n",
      "[CV] ................................... , score=0.4025, total=   0.3s\n"
     ]
    },
    {
     "name": "stderr",
     "output_type": "stream",
     "text": [
      "[Parallel(n_jobs=1)]: Done  25 out of  25 | elapsed:    5.1s finished\n"
     ]
    },
    {
     "data": {
      "image/png": "[encoded data removed]",
      "text/plain": [
       "<matplotlib.figure.Figure at 0x2b7296d47f0>"
      ]
     },
     "metadata": {
      "needs_background": "light"
     },
     "output_type": "display_data"
    }
   ],
   "source": [
    "from sklearn.multiclass import OneVsRestClassifier\n",
    "from sklearn.linear_model import LogisticRegression\n",
    "from sklearn.model_selection import ShuffleSplit\n",
    "\n",
    "\n",
    "cv = ShuffleSplit(n_splits=5, test_size=0.2, random_state=0)\n",
    "ovr = OneVsRestClassifier(LogisticRegression())\n",
    "\n",
    "plot_learning_curve(ovr, \"Slot1 baseline learning curve \",\n",
    "                    x_train, y_train_df, ylim=(0.0, 1.01), cv=cv, n_jobs=1, verbose=4)\n",
    "\n",
    "plt.show()"
   ]
  },
  {
   "cell_type": "code",
   "execution_count": 18,
   "metadata": {},
   "outputs": [
    {
     "data": {
      "text/plain": [
       "0.5942386831275719"
      ]
     },
     "execution_count": 18,
     "metadata": {},
     "output_type": "execute_result"
    }
   ],
   "source": [
    "from sklearn.model_selection import train_test_split\n",
    "from sklearn.metrics import f1_score\n",
    "\n",
    "\n",
    "ovr = OneVsRestClassifier(LogisticRegression())\n",
    "ovr.fit(x_train, y_train_df)\n",
    "\n",
    "predicted = ovr.predict(x_test)\n",
    "f1_score(y_test_df, predicted, average=\"micro\")"
   ]
  },
  {
   "cell_type": "code",
   "execution_count": null,
   "metadata": {},
   "outputs": [],
   "source": []
  }
 ],
 "metadata": {
  "kernelspec": {
   "display_name": "Python 3",
   "language": "python",
   "name": "python3"
  },
  "language_info": {
   "codemirror_mode": {
    "name": "ipython",
    "version": 3
   },
   "file_extension": ".py",
   "mimetype": "text/x-python",
   "name": "python",
   "nbconvert_exporter": "python",
   "pygments_lexer": "ipython3",
   "version": "3.6.3"
  }
 },
 "nbformat": 4,
 "nbformat_minor": 2
}
